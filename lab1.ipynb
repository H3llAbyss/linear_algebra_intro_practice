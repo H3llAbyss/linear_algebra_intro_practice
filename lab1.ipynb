{
 "cells": [
  {
   "cell_type": "markdown",
   "id": "9100e50a",
   "metadata": {},
   "source": [
    "# LAB 1"
   ]
  },
  {
   "cell_type": "code",
   "execution_count": 2,
   "id": "7ae15356",
   "metadata": {},
   "outputs": [],
   "source": [
    "from vectors import *"
   ]
  },
  {
   "cell_type": "code",
   "execution_count": 3,
   "id": "69db5a64",
   "metadata": {},
   "outputs": [],
   "source": [
    "test_vector = np.array([1,2,3,4,5])"
   ]
  },
  {
   "cell_type": "code",
   "execution_count": 4,
   "id": "3900594c",
   "metadata": {},
   "outputs": [
    {
     "data": {
      "text/plain": [
       "array([0.13785732, 0.45432384, 0.65723022, 0.44585068, 0.2020521 ])"
      ]
     },
     "execution_count": 4,
     "metadata": {},
     "output_type": "execute_result"
    }
   ],
   "source": [
    "get_vector(5)"
   ]
  },
  {
   "cell_type": "code",
   "execution_count": 5,
   "id": "ea87b3d7",
   "metadata": {},
   "outputs": [
    {
     "name": "stdout",
     "output_type": "stream",
     "text": [
      "[[0.30651892 0.         0.25202765 0.16263421 0.         0.\n",
      "  0.         0.         0.         0.         0.52452728 0.84586242\n",
      "  0.40429334 0.77048504 0.         0.         0.         0.\n",
      "  0.71273168 0.3457331 ]]\n",
      "<Compressed Sparse Row sparse matrix of dtype 'float64'\n",
      "\twith 9 stored elements and shape (1, 20)>\n",
      "  Coords\tValues\n",
      "  (0, 0)\t0.306518915538773\n",
      "  (0, 2)\t0.25202765367383106\n",
      "  (0, 3)\t0.1626342085037814\n",
      "  (0, 10)\t0.524527275891549\n",
      "  (0, 11)\t0.8458624244575845\n",
      "  (0, 12)\t0.40429333738601625\n",
      "  (0, 13)\t0.7704850408811533\n",
      "  (0, 18)\t0.7127316847339267\n",
      "  (0, 19)\t0.345733104762197\n"
     ]
    }
   ],
   "source": [
    "sparse = get_sparse_vector(20)\n",
    "print(sparse.toarray())\n",
    "print(sparse)"
   ]
  },
  {
   "cell_type": "code",
   "execution_count": null,
   "id": "7b93ed9a",
   "metadata": {},
   "outputs": [],
   "source": []
  },
  {
   "cell_type": "code",
   "execution_count": 6,
   "id": "a31491e5",
   "metadata": {},
   "outputs": [
    {
     "data": {
      "text/plain": [
       "array([ 2,  4,  6,  8, 10])"
      ]
     },
     "execution_count": 6,
     "metadata": {},
     "output_type": "execute_result"
    }
   ],
   "source": [
    "add(test_vector, test_vector)"
   ]
  },
  {
   "cell_type": "code",
   "execution_count": 7,
   "id": "5eb84c14",
   "metadata": {},
   "outputs": [
    {
     "data": {
      "text/plain": [
       "array([ 5., 10., 15., 20., 25.])"
      ]
     },
     "execution_count": 7,
     "metadata": {},
     "output_type": "execute_result"
    }
   ],
   "source": [
    "scalar_multiplication(test_vector, 5.0)"
   ]
  },
  {
   "cell_type": "code",
   "execution_count": 8,
   "id": "4b0a9726",
   "metadata": {},
   "outputs": [
    {
     "ename": "TypeError",
     "evalue": "linear_combination() missing 2 required positional arguments: 'vectors' and 'coeffs'",
     "output_type": "error",
     "traceback": [
      "\u001b[31m---------------------------------------------------------------------------\u001b[39m",
      "\u001b[31mTypeError\u001b[39m                                 Traceback (most recent call last)",
      "\u001b[36mCell\u001b[39m\u001b[36m \u001b[39m\u001b[32mIn[8]\u001b[39m\u001b[32m, line 1\u001b[39m\n\u001b[32m----> \u001b[39m\u001b[32m1\u001b[39m \u001b[43mlinear_combination\u001b[49m\u001b[43m(\u001b[49m\u001b[43m)\u001b[49m\n",
      "\u001b[31mTypeError\u001b[39m: linear_combination() missing 2 required positional arguments: 'vectors' and 'coeffs'"
     ]
    }
   ],
   "source": [
    "linear_combination()"
   ]
  },
  {
   "cell_type": "code",
   "execution_count": null,
   "id": "b5553138",
   "metadata": {},
   "outputs": [],
   "source": []
  },
  {
   "cell_type": "code",
   "execution_count": 9,
   "id": "1e55fd28",
   "metadata": {},
   "outputs": [
    {
     "data": {
      "text/plain": [
       "array([ 1,  4,  9, 16, 25])"
      ]
     },
     "execution_count": 9,
     "metadata": {},
     "output_type": "execute_result"
    }
   ],
   "source": [
    "dot_product(test_vector, test_vector)"
   ]
  },
  {
   "cell_type": "code",
   "execution_count": null,
   "id": "da90c0f9",
   "metadata": {},
   "outputs": [
    {
     "data": {
      "text/plain": [
       "np.float64(15.0)"
      ]
     },
     "execution_count": 7,
     "metadata": {},
     "output_type": "execute_result"
    }
   ],
   "source": [
    "norm(test_vector, 1)"
   ]
  },
  {
   "cell_type": "code",
   "execution_count": null,
   "id": "84c28682",
   "metadata": {},
   "outputs": [
    {
     "data": {
      "text/plain": [
       "np.float64(7.416198487095663)"
      ]
     },
     "execution_count": 9,
     "metadata": {},
     "output_type": "execute_result"
    }
   ],
   "source": [
    "norm(test_vector, 2)"
   ]
  },
  {
   "cell_type": "code",
   "execution_count": null,
   "id": "2fbabfc0",
   "metadata": {},
   "outputs": [
    {
     "data": {
      "text/plain": [
       "np.float64(5.0)"
      ]
     },
     "execution_count": 15,
     "metadata": {},
     "output_type": "execute_result"
    }
   ],
   "source": [
    "norm(test_vector, float(\"inf\"))"
   ]
  },
  {
   "cell_type": "code",
   "execution_count": 13,
   "id": "e0f2c404",
   "metadata": {},
   "outputs": [
    {
     "data": {
      "text/plain": [
       "np.float64(4.47213595499958)"
      ]
     },
     "execution_count": 13,
     "metadata": {},
     "output_type": "execute_result"
    }
   ],
   "source": [
    "distance(test_vector, [3,4,5,6,7])"
   ]
  },
  {
   "cell_type": "code",
   "execution_count": null,
   "id": "3fc6902b",
   "metadata": {},
   "outputs": [],
   "source": [
    "cos_between_vectors([1,0],[0.5,0.5])"
   ]
  }
 ],
 "metadata": {
  "kernelspec": {
   "display_name": ".venv",
   "language": "python",
   "name": "python3"
  },
  "language_info": {
   "codemirror_mode": {
    "name": "ipython",
    "version": 3
   },
   "file_extension": ".py",
   "mimetype": "text/x-python",
   "name": "python",
   "nbconvert_exporter": "python",
   "pygments_lexer": "ipython3",
   "version": "3.12.4"
  }
 },
 "nbformat": 4,
 "nbformat_minor": 5
}
