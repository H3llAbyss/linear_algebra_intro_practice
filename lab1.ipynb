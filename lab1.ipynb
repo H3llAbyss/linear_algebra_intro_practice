{
 "cells": [
  {
   "cell_type": "markdown",
   "id": "9100e50a",
   "metadata": {},
   "source": [
    "# LAB 1"
   ]
  },
  {
   "cell_type": "code",
   "execution_count": 286,
   "id": "7ae15356",
   "metadata": {},
   "outputs": [],
   "source": [
    "from vectors import *"
   ]
  },
  {
   "cell_type": "code",
   "execution_count": 287,
   "id": "69db5a64",
   "metadata": {},
   "outputs": [],
   "source": [
    "test_vector = np.array([1,2,3,4,5])"
   ]
  },
  {
   "cell_type": "code",
   "execution_count": 288,
   "id": "3900594c",
   "metadata": {},
   "outputs": [
    {
     "data": {
      "text/plain": [
       "array([[0.5232545 ],\n",
       "       [0.47048337],\n",
       "       [0.95487497],\n",
       "       [0.84068107],\n",
       "       [0.28045556]])"
      ]
     },
     "execution_count": 288,
     "metadata": {},
     "output_type": "execute_result"
    }
   ],
   "source": [
    "get_vector(5)"
   ]
  },
  {
   "cell_type": "code",
   "execution_count": 289,
   "id": "ea87b3d7",
   "metadata": {},
   "outputs": [
    {
     "name": "stdout",
     "output_type": "stream",
     "text": [
      "[[0.        ]\n",
      " [0.        ]\n",
      " [0.        ]\n",
      " [0.        ]\n",
      " [0.        ]\n",
      " [0.        ]\n",
      " [0.        ]\n",
      " [0.        ]\n",
      " [0.59509416]\n",
      " [0.        ]\n",
      " [0.        ]\n",
      " [0.        ]\n",
      " [0.        ]\n",
      " [0.        ]\n",
      " [0.        ]\n",
      " [0.        ]\n",
      " [0.        ]\n",
      " [0.        ]\n",
      " [0.        ]\n",
      " [0.        ]]\n",
      "<Compressed Sparse Row sparse matrix of dtype 'float64'\n",
      "\twith 1 stored elements and shape (20, 1)>\n",
      "  Coords\tValues\n",
      "  (8, 0)\t0.5950941582635709\n"
     ]
    }
   ],
   "source": [
    "sparse = get_sparse_vector(20)\n",
    "print(sparse.toarray())\n",
    "print(sparse)"
   ]
  },
  {
   "cell_type": "code",
   "execution_count": null,
   "id": "7b93ed9a",
   "metadata": {},
   "outputs": [],
   "source": []
  },
  {
   "cell_type": "code",
   "execution_count": 290,
   "id": "a31491e5",
   "metadata": {},
   "outputs": [
    {
     "data": {
      "text/plain": [
       "array([ 2,  4,  6,  8, 10])"
      ]
     },
     "execution_count": 290,
     "metadata": {},
     "output_type": "execute_result"
    }
   ],
   "source": [
    "add(test_vector, test_vector)"
   ]
  },
  {
   "cell_type": "code",
   "execution_count": 291,
   "id": "5eb84c14",
   "metadata": {},
   "outputs": [
    {
     "data": {
      "text/plain": [
       "array([ 5., 10., 15., 20., 25.])"
      ]
     },
     "execution_count": 291,
     "metadata": {},
     "output_type": "execute_result"
    }
   ],
   "source": [
    "scalar_multiplication(test_vector, 5.0)"
   ]
  },
  {
   "cell_type": "code",
   "execution_count": 292,
   "id": "4b0a9726",
   "metadata": {},
   "outputs": [
    {
     "data": {
      "text/plain": [
       "array([55])"
      ]
     },
     "execution_count": 292,
     "metadata": {},
     "output_type": "execute_result"
    }
   ],
   "source": [
    "linear_combination(test_vector, [1,2,3,4,5])"
   ]
  },
  {
   "cell_type": "code",
   "execution_count": 293,
   "id": "1e55fd28",
   "metadata": {},
   "outputs": [
    {
     "data": {
      "text/plain": [
       "55.0"
      ]
     },
     "execution_count": 293,
     "metadata": {},
     "output_type": "execute_result"
    }
   ],
   "source": [
    "dot_product(test_vector, test_vector)"
   ]
  },
  {
   "cell_type": "code",
   "execution_count": 294,
   "id": "da90c0f9",
   "metadata": {},
   "outputs": [
    {
     "data": {
      "text/plain": [
       "np.float64(15.0)"
      ]
     },
     "execution_count": 294,
     "metadata": {},
     "output_type": "execute_result"
    }
   ],
   "source": [
    "norm(test_vector, 1)"
   ]
  },
  {
   "cell_type": "code",
   "execution_count": 295,
   "id": "84c28682",
   "metadata": {},
   "outputs": [
    {
     "data": {
      "text/plain": [
       "np.float64(7.416198487095663)"
      ]
     },
     "execution_count": 295,
     "metadata": {},
     "output_type": "execute_result"
    }
   ],
   "source": [
    "norm(test_vector, 2)"
   ]
  },
  {
   "cell_type": "code",
   "execution_count": 296,
   "id": "2fbabfc0",
   "metadata": {},
   "outputs": [
    {
     "data": {
      "text/plain": [
       "np.float64(5.0)"
      ]
     },
     "execution_count": 296,
     "metadata": {},
     "output_type": "execute_result"
    }
   ],
   "source": [
    "norm(test_vector, float(\"inf\"))"
   ]
  },
  {
   "cell_type": "code",
   "execution_count": 297,
   "id": "e0f2c404",
   "metadata": {},
   "outputs": [
    {
     "data": {
      "text/plain": [
       "np.float64(4.47213595499958)"
      ]
     },
     "execution_count": 297,
     "metadata": {},
     "output_type": "execute_result"
    }
   ],
   "source": [
    "distance(test_vector, [3,4,5,6,7])"
   ]
  },
  {
   "cell_type": "code",
   "execution_count": 298,
   "id": "3fc6902b",
   "metadata": {},
   "outputs": [
    {
     "data": {
      "text/plain": [
       "45.00000000000001"
      ]
     },
     "execution_count": 298,
     "metadata": {},
     "output_type": "execute_result"
    }
   ],
   "source": [
    "cos_between_vectors([1,0], [0.5,0.5])"
   ]
  },
  {
   "cell_type": "code",
   "execution_count": 299,
   "id": "94fa6cc5",
   "metadata": {},
   "outputs": [
    {
     "data": {
      "text/plain": [
       "90.0"
      ]
     },
     "execution_count": 299,
     "metadata": {},
     "output_type": "execute_result"
    }
   ],
   "source": [
    "cos_between_vectors([1,0], [0,1])"
   ]
  },
  {
   "cell_type": "code",
   "execution_count": 300,
   "id": "819b5a5e",
   "metadata": {},
   "outputs": [
    {
     "data": {
      "text/plain": [
       "array([-1.,  1.])"
      ]
     },
     "execution_count": 300,
     "metadata": {},
     "output_type": "execute_result"
    }
   ],
   "source": [
    "solves_linear_systems([[1,2], [3,5]], [1,2])"
   ]
  }
 ],
 "metadata": {
  "kernelspec": {
   "display_name": ".venv",
   "language": "python",
   "name": "python3"
  },
  "language_info": {
   "codemirror_mode": {
    "name": "ipython",
    "version": 3
   },
   "file_extension": ".py",
   "mimetype": "text/x-python",
   "name": "python",
   "nbconvert_exporter": "python",
   "pygments_lexer": "ipython3",
   "version": "3.12.4"
  }
 },
 "nbformat": 4,
 "nbformat_minor": 5
}
