{
 "cells": [
  {
   "cell_type": "markdown",
   "id": "9100e50a",
   "metadata": {},
   "source": [
    "# LAB 1"
   ]
  },
  {
   "cell_type": "code",
   "execution_count": 1,
   "id": "7ae15356",
   "metadata": {},
   "outputs": [],
   "source": [
    "from vectors import *"
   ]
  },
  {
   "cell_type": "code",
   "execution_count": 2,
   "id": "69db5a64",
   "metadata": {},
   "outputs": [],
   "source": [
    "test_vector = np.array([1,2,3,4,5])"
   ]
  },
  {
   "cell_type": "code",
   "execution_count": 3,
   "id": "3900594c",
   "metadata": {},
   "outputs": [
    {
     "data": {
      "text/plain": [
       "array([0.81394258, 0.98265027, 0.86966736, 0.74855274, 0.91212234])"
      ]
     },
     "execution_count": 3,
     "metadata": {},
     "output_type": "execute_result"
    }
   ],
   "source": [
    "get_vector(5)"
   ]
  },
  {
   "cell_type": "code",
   "execution_count": 4,
   "id": "ea87b3d7",
   "metadata": {},
   "outputs": [
    {
     "name": "stdout",
     "output_type": "stream",
     "text": [
      "[[0.76331169 0.73235655 0.81725352 0.65536224 0.45136142 0.29614566\n",
      "  0.73368038 0.         0.         0.         0.8882156  0.55819238\n",
      "  0.73457841 0.04417755 0.99892292 0.14111471 0.35897607 0.\n",
      "  0.65048325 0.        ]]\n",
      "<Compressed Sparse Row sparse matrix of dtype 'float64'\n",
      "\twith 15 stored elements and shape (1, 20)>\n",
      "  Coords\tValues\n",
      "  (0, 0)\t0.7633116851175711\n",
      "  (0, 1)\t0.7323565533470321\n",
      "  (0, 2)\t0.8172535212736955\n",
      "  (0, 3)\t0.6553622442940737\n",
      "  (0, 4)\t0.4513614219064742\n",
      "  (0, 5)\t0.29614566170178014\n",
      "  (0, 6)\t0.7336803799601397\n",
      "  (0, 10)\t0.8882155968131804\n",
      "  (0, 11)\t0.5581923849920836\n",
      "  (0, 12)\t0.7345784071154389\n",
      "  (0, 13)\t0.04417755380981847\n",
      "  (0, 14)\t0.9989229224978512\n",
      "  (0, 15)\t0.14111470518384417\n",
      "  (0, 16)\t0.3589760730157878\n",
      "  (0, 18)\t0.6504832477265915\n"
     ]
    }
   ],
   "source": [
    "sparse = get_sparse_vector(20)\n",
    "print(sparse.toarray())\n",
    "print(sparse)"
   ]
  },
  {
   "cell_type": "code",
   "execution_count": null,
   "id": "7b93ed9a",
   "metadata": {},
   "outputs": [],
   "source": []
  },
  {
   "cell_type": "code",
   "execution_count": 5,
   "id": "a31491e5",
   "metadata": {},
   "outputs": [
    {
     "data": {
      "text/plain": [
       "array([ 2,  4,  6,  8, 10])"
      ]
     },
     "execution_count": 5,
     "metadata": {},
     "output_type": "execute_result"
    }
   ],
   "source": [
    "add(test_vector, test_vector)"
   ]
  },
  {
   "cell_type": "code",
   "execution_count": 6,
   "id": "5eb84c14",
   "metadata": {},
   "outputs": [
    {
     "data": {
      "text/plain": [
       "array([ 5., 10., 15., 20., 25.])"
      ]
     },
     "execution_count": 6,
     "metadata": {},
     "output_type": "execute_result"
    }
   ],
   "source": [
    "scalar_multiplication(test_vector, 5.0)"
   ]
  },
  {
   "cell_type": "code",
   "execution_count": null,
   "id": "4b0a9726",
   "metadata": {},
   "outputs": [
    {
     "data": {
      "text/plain": [
       "np.int64(15)"
      ]
     },
     "execution_count": 16,
     "metadata": {},
     "output_type": "execute_result"
    }
   ],
   "source": [
    "linear_combination(test_vector, [1,2,3,4,5])"
   ]
  },
  {
   "cell_type": "code",
   "execution_count": null,
   "id": "1e55fd28",
   "metadata": {},
   "outputs": [
    {
     "data": {
      "text/plain": [
       "array([ 1,  4,  9, 16, 25])"
      ]
     },
     "execution_count": 9,
     "metadata": {},
     "output_type": "execute_result"
    }
   ],
   "source": [
    "dot_product(test_vector, test_vector)"
   ]
  },
  {
   "cell_type": "code",
   "execution_count": null,
   "id": "da90c0f9",
   "metadata": {},
   "outputs": [
    {
     "data": {
      "text/plain": [
       "np.float64(15.0)"
      ]
     },
     "execution_count": 7,
     "metadata": {},
     "output_type": "execute_result"
    }
   ],
   "source": [
    "norm(test_vector, 1)"
   ]
  },
  {
   "cell_type": "code",
   "execution_count": null,
   "id": "84c28682",
   "metadata": {},
   "outputs": [
    {
     "data": {
      "text/plain": [
       "np.float64(7.416198487095663)"
      ]
     },
     "execution_count": 9,
     "metadata": {},
     "output_type": "execute_result"
    }
   ],
   "source": [
    "norm(test_vector, 2)"
   ]
  },
  {
   "cell_type": "code",
   "execution_count": null,
   "id": "2fbabfc0",
   "metadata": {},
   "outputs": [
    {
     "data": {
      "text/plain": [
       "np.float64(5.0)"
      ]
     },
     "execution_count": 15,
     "metadata": {},
     "output_type": "execute_result"
    }
   ],
   "source": [
    "norm(test_vector, float(\"inf\"))"
   ]
  },
  {
   "cell_type": "code",
   "execution_count": null,
   "id": "e0f2c404",
   "metadata": {},
   "outputs": [
    {
     "data": {
      "text/plain": [
       "np.float64(4.47213595499958)"
      ]
     },
     "execution_count": 13,
     "metadata": {},
     "output_type": "execute_result"
    }
   ],
   "source": [
    "distance(test_vector, [3,4,5,6,7])"
   ]
  },
  {
   "cell_type": "code",
   "execution_count": null,
   "id": "3fc6902b",
   "metadata": {},
   "outputs": [
    {
     "data": {
      "text/plain": [
       "np.float64(45.00000000000001)"
      ]
     },
     "execution_count": 4,
     "metadata": {},
     "output_type": "execute_result"
    }
   ],
   "source": [
    "cos_between_vectors([1,0], [0.5,0.5])"
   ]
  },
  {
   "cell_type": "code",
   "execution_count": null,
   "id": "94fa6cc5",
   "metadata": {},
   "outputs": [
    {
     "data": {
      "text/plain": [
       "np.float64(90.0)"
      ]
     },
     "execution_count": 6,
     "metadata": {},
     "output_type": "execute_result"
    }
   ],
   "source": [
    "cos_between_vectors([1,0], [0,1])"
   ]
  },
  {
   "cell_type": "code",
   "execution_count": null,
   "id": "819b5a5e",
   "metadata": {},
   "outputs": [
    {
     "data": {
      "text/plain": [
       "array([-1.,  1.])"
      ]
     },
     "execution_count": 9,
     "metadata": {},
     "output_type": "execute_result"
    }
   ],
   "source": [
    "solves_linear_systems([[1,2], [3,5]], [1,2])"
   ]
  }
 ],
 "metadata": {
  "kernelspec": {
   "display_name": ".venv",
   "language": "python",
   "name": "python3"
  },
  "language_info": {
   "codemirror_mode": {
    "name": "ipython",
    "version": 3
   },
   "file_extension": ".py",
   "mimetype": "text/x-python",
   "name": "python",
   "nbconvert_exporter": "python",
   "pygments_lexer": "ipython3",
   "version": "3.12.4"
  }
 },
 "nbformat": 4,
 "nbformat_minor": 5
}
